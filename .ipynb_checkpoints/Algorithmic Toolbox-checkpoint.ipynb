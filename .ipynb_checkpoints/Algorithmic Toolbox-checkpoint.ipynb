{
 "cells": [
  {
   "cell_type": "markdown",
   "metadata": {},
   "source": [
    "# Week 1"
   ]
  },
  {
   "cell_type": "markdown",
   "metadata": {},
   "source": [
    "We invite you to use the following companion book for the specialization:\n",
    "\n",
    "\n",
    "[Alexander Kulikov and Pavel Pevzner. Learning Algorithms through Programming and Puzzle Solving. 2018.](http://learningalgorithms.tilda.ws/?utm_source=coursera&utm_media=reading)"
   ]
  },
  {
   "cell_type": "markdown",
   "metadata": {},
   "source": [
    "### Note: "
   ]
  },
  {
   "cell_type": "markdown",
   "metadata": {},
   "source": [
    "Knowledge of discrete mathematics is necessary for analyzing algorithms (proving correctness, estimating running time) and for algorithmic thinking in general. If you want to refresh your discrete mathematics skills, we encourage you to go through our partner specialization — Introduction to Discrete Mathematics for Computer Science. It teaches the basics of discrete mathematics in try-this-before-we-explain-everything approach: you will be solving many interactive puzzles that were carefully designed to allow you to invent many of the important ideas and concepts yourself.  \n",
    "https://www.coursera.org/specializations/discrete-mathematics?utm_source=algoreading"
   ]
  },
  {
   "cell_type": "markdown",
   "metadata": {},
   "source": [
    "C++ flag\n",
    "\n",
    "g++ -pipe -02 -std=c++11"
   ]
  },
  {
   "cell_type": "markdown",
   "metadata": {},
   "source": [
    "**Linus Bash Command for coding:**\n",
    "    \n",
    "To show the file of : `less` file_name"
   ]
  },
  {
   "cell_type": "markdown",
   "metadata": {},
   "source": [
    "### Note"
   ]
  },
  {
   "cell_type": "markdown",
   "metadata": {},
   "source": [
    "One billion is the basic number of operation that modern computers can do."
   ]
  },
  {
   "cell_type": "markdown",
   "metadata": {},
   "source": [
    "### Stress Test "
   ]
  },
  {
   "cell_type": "markdown",
   "metadata": {},
   "source": [
    "<strong> Random numbers in C++ </strong> , read < link "
   ]
  },
  {
   "cell_type": "code",
   "execution_count": null,
   "metadata": {},
   "outputs": [],
   "source": []
  }
 ],
 "metadata": {
  "kernelspec": {
   "display_name": "Python 3",
   "language": "python",
   "name": "python3"
  },
  "language_info": {
   "codemirror_mode": {
    "name": "ipython",
    "version": 3
   },
   "file_extension": ".py",
   "mimetype": "text/x-python",
   "name": "python",
   "nbconvert_exporter": "python",
   "pygments_lexer": "ipython3",
   "version": "3.7.6"
  }
 },
 "nbformat": 4,
 "nbformat_minor": 4
}
