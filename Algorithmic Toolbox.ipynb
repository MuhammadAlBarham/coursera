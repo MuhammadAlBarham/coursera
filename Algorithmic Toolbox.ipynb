{
 "cells": [
  {
   "cell_type": "markdown",
   "metadata": {},
   "source": [
    "# Week 1"
   ]
  },
  {
   "cell_type": "markdown",
   "metadata": {},
   "source": [
    "We invite you to use the following companion book for the specialization:\n",
    "\n",
    "\n",
    "[Alexander Kulikov and Pavel Pevzner. Learning Algorithms through Programming and Puzzle Solving. 2018.](http://learningalgorithms.tilda.ws/?utm_source=coursera&utm_media=reading)"
   ]
  },
  {
   "cell_type": "markdown",
   "metadata": {},
   "source": [
    "### Note: "
   ]
  },
  {
   "cell_type": "markdown",
   "metadata": {},
   "source": [
    "Knowledge of discrete mathematics is necessary for analyzing algorithms (proving correctness, estimating running time) and for algorithmic thinking in general. If you want to refresh your discrete mathematics skills, we encourage you to go through our partner specialization — Introduction to Discrete Mathematics for Computer Science. It teaches the basics of discrete mathematics in try-this-before-we-explain-everything approach: you will be solving many interactive puzzles that were carefully designed to allow you to invent many of the important ideas and concepts yourself.  \n",
    "https://www.coursera.org/specializations/discrete-mathematics?utm_source=algoreading"
   ]
  },
  {
   "cell_type": "markdown",
   "metadata": {},
   "source": [
    "C++ flag\n",
    "\n",
    "g++ -pipe -02 -std=c++11"
   ]
  },
  {
   "cell_type": "markdown",
   "metadata": {},
   "source": [
    "**Linus Bash Command for coding:**\n",
    "    \n",
    "To show the file of : `less` file_name"
   ]
  },
  {
   "cell_type": "markdown",
   "metadata": {},
   "source": [
    "### Note"
   ]
  },
  {
   "cell_type": "markdown",
   "metadata": {},
   "source": [
    "One billion is the basic number of operation that modern computers can do."
   ]
  },
  {
   "cell_type": "markdown",
   "metadata": {},
   "source": [
    "### Stress Test "
   ]
  },
  {
   "cell_type": "markdown",
   "metadata": {},
   "source": [
    "<strong> Random numbers in C++ </strong> , read < link "
   ]
  },
  {
   "cell_type": "markdown",
   "metadata": {},
   "source": [
    "## Week 2 "
   ]
  },
  {
   "cell_type": "markdown",
   "metadata": {},
   "source": [
    "If you find this lesson difficult to follow\n",
    "If you need to refresh your knowledge of recursion: [Section on recursion](https://www.khanacademy.org/computing/computer-science/algorithms/recursive-algorithms/a/recursion) at Algorithms class by Tom Cormen and Devin Balkcom at Khan Academy"
   ]
  },
  {
   "cell_type": "markdown",
   "metadata": {},
   "source": [
    "Visualizations\n",
    "[Computing Fibonacci numbers](https://www.cs.usfca.edu/~galles/visualization/DPFib.html) by David Galles\n",
    "\n",
    "To better appreciate the difference between polynomial time and exponential time algorithms, try computing F_{20}F \n",
    "20\n",
    "​\t\n",
    "  using this visualization. For this, enter \"20\" into the field and press \"Fibonacci Recursive\". This calls a recursive algorithm that makes an endless number of recursive calls. This call will never end even if you increase the visualization speed to maximum. Stop this call by pressing \"Skip Forward\" and press \"Fibonacci Table\". This will call an iterative algorithm that uses an array to compute Fibonacci numbers efficiently. The third button calls a recursive algorithm with memoization. We will cover such algorithms in the Dynamic Programming module later in this class.\n",
    "\n",
    "(Note that the visualization uses a slightly different definition of Fibonacci numbers: there, F_0=F_1=1F \n",
    "0\n",
    "​\t\n",
    " =F \n",
    "1\n",
    "​\t\n",
    " =1, and in the lecture, F_0=0,F_1=1F \n",
    "0\n",
    "​\t\n",
    " =0,F \n",
    "1\n",
    "​\t\n",
    " =1. This, of course, has no influence on the running time.)"
   ]
  },
  {
   "cell_type": "markdown",
   "metadata": {},
   "source": [
    "If you find this lesson difficult to follow\n",
    "An elementary introduction to greatest common divisor at Khan Academy, [here](https://www.khanacademy.org/math/pre-algebra/pre-algebra-factors-multiples/pre-algebra-greatest-common-divisor/v/greatest-common-divisor-factor-exercise)"
   ]
  },
  {
   "cell_type": "markdown",
   "metadata": {},
   "source": [
    "### Fibonaci Algorithms: "
   ]
  },
  {
   "cell_type": "markdown",
   "metadata": {},
   "source": [
    "https://www.geeksforgeeks.org/program-for-nth-fibonacci-number/"
   ]
  },
  {
   "cell_type": "markdown",
   "metadata": {},
   "source": [
    "If you find this lesson difficult to follow\n",
    "[An elementary introduction to greatest common divisor](https://www.khanacademy.org/math/pre-algebra/pre-algebra-factors-multiples/pre-algebra-greatest-common-divisor/v/greatest-common-divisor-factor-exercise) at Khan Academy"
   ]
  },
  {
   "cell_type": "markdown",
   "metadata": {},
   "source": [
    "## Big O Notiation"
   ]
  },
  {
   "cell_type": "markdown",
   "metadata": {},
   "source": [
    "Reading\n",
    "Big-OO notation and growth rate: Section 0.3 of [DPV08]\n",
    "\n",
    "[Big-OO](https://www.khanacademy.org/computing/computer-science/algorithms/asymptotic-notation/a/asymptotic-notation) notation at Khan Academy\n",
    "\n",
    "If you find this lesson difficult to follow\n",
    "If you need to refresh your knowledge of logarithms: an [elementary introduction to logarithms](https://www.khanacademy.org/math/algebra2/x2ec2f6f830c9fb89:logs/x2ec2f6f830c9fb89:log-intro/a/intro-to-logarithms) at Khan Academy"
   ]
  },
  {
   "cell_type": "markdown",
   "metadata": {},
   "source": [
    "<strong>Resources</strong>"
   ]
  },
  {
   "cell_type": "markdown",
   "metadata": {},
   "source": [
    "1. http://compeau.cbd.cmu.edu/programming-for-lovers/"
   ]
  },
  {
   "cell_type": "code",
   "execution_count": null,
   "metadata": {},
   "outputs": [],
   "source": []
  }
 ],
 "metadata": {
  "kernelspec": {
   "display_name": "Python 3",
   "language": "python",
   "name": "python3"
  },
  "language_info": {
   "codemirror_mode": {
    "name": "ipython",
    "version": 3
   },
   "file_extension": ".py",
   "mimetype": "text/x-python",
   "name": "python",
   "nbconvert_exporter": "python",
   "pygments_lexer": "ipython3",
   "version": "3.7.6"
  }
 },
 "nbformat": 4,
 "nbformat_minor": 4
}
